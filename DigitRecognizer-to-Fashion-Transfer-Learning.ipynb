{
  "nbformat": 4,
  "nbformat_minor": 0,
  "metadata": {
    "colab": {
      "provenance": [],
      "gpuType": "T4",
      "authorship_tag": "ABX9TyPZfwVsrSDiHBXl9Jbetnl+"
    },
    "kernelspec": {
      "name": "python3",
      "display_name": "Python 3"
    },
    "language_info": {
      "name": "python"
    },
    "accelerator": "GPU"
  },
  "cells": [
    {
      "cell_type": "code",
      "execution_count": 1,
      "metadata": {
        "id": "zb5MPvfsJMAT"
      },
      "outputs": [],
      "source": [
        "import tensorflow as tf\n",
        "import pandas as pd\n",
        "import numpy as np\n",
        "import matplotlib.pyplot as plt\n",
        "from tensorflow.keras.models import Sequential\n",
        "from tensorflow.keras.layers import Dense, Reshape, Conv2D,MaxPooling2D,Flatten\n",
        "\n",
        "from sklearn.metrics import confusion_matrix\n",
        "import seaborn as sns"
      ]
    },
    {
      "cell_type": "markdown",
      "source": [
        "## Load the dataset"
      ],
      "metadata": {
        "id": "dCFK4ugIOO6k"
      }
    },
    {
      "cell_type": "code",
      "source": [
        "(x_train, y_train), (x_test, y_test) = tf.keras.datasets.mnist.load_data()\n"
      ],
      "metadata": {
        "id": "d-nA_V5KKQkE"
      },
      "execution_count": 2,
      "outputs": []
    },
    {
      "cell_type": "code",
      "source": [
        "x_train.shape"
      ],
      "metadata": {
        "colab": {
          "base_uri": "https://localhost:8080/"
        },
        "id": "G1MGKF7PL1x4",
        "outputId": "d5f1bdb5-9dd7-4822-fe7d-2dc9e0db72df"
      },
      "execution_count": 3,
      "outputs": [
        {
          "output_type": "execute_result",
          "data": {
            "text/plain": [
              "(60000, 28, 28)"
            ]
          },
          "metadata": {},
          "execution_count": 3
        }
      ]
    },
    {
      "cell_type": "markdown",
      "source": [
        "##Visualizing the data"
      ],
      "metadata": {
        "id": "6xrDxibGOKF4"
      }
    },
    {
      "cell_type": "code",
      "source": [
        "plt.figure(figsize=(10,10))\n",
        "\n",
        "for i in range(1,17):\n",
        "  plt.subplot(4,4,i)\n",
        "  image = x_train[i]\n",
        "  label = y_train[i]\n",
        "  plt.imshow(image, cmap='gray')\n",
        "  plt.title(f\"Label: {label}\")\n",
        "  plt.axis('off')\n",
        "plt.show()"
      ],
      "metadata": {
        "colab": {
          "base_uri": "https://localhost:8080/",
          "height": 829
        },
        "id": "PT_xQFE0MSnt",
        "outputId": "d54991de-6d1c-4091-d0c5-293a4f2e07f7"
      },
      "execution_count": 5,
      "outputs": [
        {
          "output_type": "display_data",
          "data": {
            "text/plain": [
              "<Figure size 1000x1000 with 16 Axes>"
            ],
            "image/png": "[encoded data removed]"
          },
          "metadata": {}
        }
      ]
    },
    {
      "cell_type": "markdown",
      "source": [
        "## Building a neural network model"
      ],
      "metadata": {
        "id": "sOGpnhqiO7ld"
      }
    },
    {
      "cell_type": "code",
      "source": [
        "model = Sequential(\n",
        "    [\n",
        "        Conv2D(32, (3, 3), activation='relu', input_shape=(28, 28, 1)),\n",
        "        MaxPooling2D((2, 2)),\n",
        "        Flatten(),\n",
        "        Dense(128, activation='relu', name='layer1'),\n",
        "        Dense(10, activation ='linear', name = 'layerrr')\n",
        "    ]\n",
        ")"
      ],
      "metadata": {
        "id": "cltPnFQjMN8S"
      },
      "execution_count": 6,
      "outputs": []
    },
    {
      "cell_type": "code",
      "source": [
        "model.summary()"
      ],
      "metadata": {
        "colab": {
          "base_uri": "https://localhost:8080/"
        },
        "id": "GCFJPwFoP8md",
        "outputId": "409e2cc6-a1f9-49f9-f80f-d9f8c7f565a4"
      },
      "execution_count": 7,
      "outputs": [
        {
          "output_type": "stream",
          "name": "stdout",
          "text": [
            "Model: \"sequential\"\n",
            "_________________________________________________________________\n",
            " Layer (type)                Output Shape              Param #   \n",
            "=================================================================\n",
            " conv2d (Conv2D)             (None, 26, 26, 32)        320       \n",
            "                                                                 \n",
            " max_pooling2d (MaxPooling2  (None, 13, 13, 32)        0         \n",
            " D)                                                              \n",
            "                                                                 \n",
            " flatten (Flatten)           (None, 5408)              0         \n",
            "                                                                 \n",
            " layer1 (Dense)              (None, 128)               692352    \n",
            "                                                                 \n",
            " layerrr (Dense)             (None, 10)                1290      \n",
            "                                                                 \n",
            "=================================================================\n",
            "Total params: 693962 (2.65 MB)\n",
            "Trainable params: 693962 (2.65 MB)\n",
            "Non-trainable params: 0 (0.00 Byte)\n",
            "_________________________________________________________________\n"
          ]
        }
      ]
    },
    {
      "cell_type": "markdown",
      "source": [
        "Callback function defines the condition, which when reached, stops the model from training further."
      ],
      "metadata": {
        "id": "EQwDo8jQl4qz"
      }
    },
    {
      "cell_type": "code",
      "source": [
        "class callback(tf.keras.callbacks.Callback):\n",
        "  def on_epoch_end(self,epoch, logs={}):\n",
        "    if(logs.get('sparse_categorical_accuracy') > .995):\n",
        "      print(\"Accuracy reached\")\n",
        "      self.model.stop_training = True"
      ],
      "metadata": {
        "id": "xv55kxBgOxfV"
      },
      "execution_count": 8,
      "outputs": []
    },
    {
      "cell_type": "code",
      "source": [
        "callback = callback()\n",
        "model.compile(optimizer=tf.keras.optimizers.Adam(learning_rate=0.001),\n",
        "              loss = tf.keras.losses.SparseCategoricalCrossentropy(from_logits= True),\n",
        "              metrics=[tf.keras.metrics.SparseCategoricalAccuracy()],)"
      ],
      "metadata": {
        "id": "3P_UhdVXQy7k"
      },
      "execution_count": 9,
      "outputs": []
    },
    {
      "cell_type": "code",
      "source": [
        "history = model.fit(x_train,y_train, epochs=10, callbacks = [callback])"
      ],
      "metadata": {
        "colab": {
          "base_uri": "https://localhost:8080/"
        },
        "id": "NMvrE7mkR82p",
        "outputId": "db297664-775a-4d4a-ed89-ebe154652d32"
      },
      "execution_count": 10,
      "outputs": [
        {
          "output_type": "stream",
          "name": "stdout",
          "text": [
            "Epoch 1/10\n",
            "1875/1875 [==============================] - 19s 6ms/step - loss: 0.4069 - sparse_categorical_accuracy: 0.9358\n",
            "Epoch 2/10\n",
            "1875/1875 [==============================] - 9s 5ms/step - loss: 0.0788 - sparse_categorical_accuracy: 0.9764\n",
            "Epoch 3/10\n",
            "1875/1875 [==============================] - 6s 3ms/step - loss: 0.0562 - sparse_categorical_accuracy: 0.9819\n",
            "Epoch 4/10\n",
            "1875/1875 [==============================] - 6s 3ms/step - loss: 0.0474 - sparse_categorical_accuracy: 0.9858\n",
            "Epoch 5/10\n",
            "1875/1875 [==============================] - 6s 3ms/step - loss: 0.0349 - sparse_categorical_accuracy: 0.9892\n",
            "Epoch 6/10\n",
            "1875/1875 [==============================] - 6s 3ms/step - loss: 0.0299 - sparse_categorical_accuracy: 0.9912\n",
            "Epoch 7/10\n",
            "1875/1875 [==============================] - 5s 3ms/step - loss: 0.0255 - sparse_categorical_accuracy: 0.9925\n",
            "Epoch 8/10\n",
            "1875/1875 [==============================] - 7s 3ms/step - loss: 0.0232 - sparse_categorical_accuracy: 0.9927\n",
            "Epoch 9/10\n",
            "1875/1875 [==============================] - 5s 3ms/step - loss: 0.0210 - sparse_categorical_accuracy: 0.9939\n",
            "Epoch 10/10\n",
            "1872/1875 [============================>.] - ETA: 0s - loss: 0.0171 - sparse_categorical_accuracy: 0.9953Accuracy reached\n",
            "1875/1875 [==============================] - 6s 3ms/step - loss: 0.0170 - sparse_categorical_accuracy: 0.9954\n"
          ]
        }
      ]
    },
    {
      "cell_type": "code",
      "source": [
        "loss = model.evaluate(x_test,y_test)"
      ],
      "metadata": {
        "colab": {
          "base_uri": "https://localhost:8080/"
        },
        "id": "-ZjyhffWSHrV",
        "outputId": "f0f9e38a-cf1e-4906-b462-0c9edbc32d87"
      },
      "execution_count": 11,
      "outputs": [
        {
          "output_type": "stream",
          "name": "stdout",
          "text": [
            "313/313 [==============================] - 1s 2ms/step - loss: 0.1136 - sparse_categorical_accuracy: 0.9807\n"
          ]
        }
      ]
    },
    {
      "cell_type": "code",
      "source": [
        "df = pd.DataFrame(history.history)\n",
        "#--------------\n",
        "plt.figure(figsize=(9,6))\n",
        "df.plot()\n",
        "plt.xlabel('epochs')\n",
        "plt.ylabel('loss')\n",
        "plt.legend();"
      ],
      "metadata": {
        "colab": {
          "base_uri": "https://localhost:8080/",
          "height": 466
        },
        "id": "qqmJoaPKnGEo",
        "outputId": "8679ec47-1e08-43a4-b0c8-6e23d910beb2"
      },
      "execution_count": 12,
      "outputs": [
        {
          "output_type": "display_data",
          "data": {
            "text/plain": [
              "<Figure size 900x600 with 0 Axes>"
            ]
          },
          "metadata": {}
        },
        {
          "output_type": "display_data",
          "data": {
            "text/plain": [
              "<Figure size 640x480 with 1 Axes>"
            ],
            "image/png": "[encoded data removed]"
          },
          "metadata": {}
        }
      ]
    },
    {
      "cell_type": "markdown",
      "source": [
        "## Evaluating performance on Test Set\n"
      ],
      "metadata": {
        "id": "wzJHt6QXlU-P"
      }
    },
    {
      "cell_type": "code",
      "source": [
        "y_p = model.predict(x_test)\n",
        "y_p = tf.nn.softmax(y_p).numpy()\n",
        "y_p = np.argmax(y_p, axis=1)"
      ],
      "metadata": {
        "colab": {
          "base_uri": "https://localhost:8080/"
        },
        "id": "1BObR9F0Tbl2",
        "outputId": "3fd15bc9-f4ca-4ad5-db5d-a1e5de050cd4"
      },
      "execution_count": 13,
      "outputs": [
        {
          "output_type": "stream",
          "name": "stdout",
          "text": [
            "313/313 [==============================] - 1s 2ms/step\n"
          ]
        }
      ]
    },
    {
      "cell_type": "code",
      "source": [
        "confusion = confusion_matrix(y_test, y_p)\n",
        "\n",
        "plt.figure(figsize=(8, 6))\n",
        "sns.heatmap(confusion, annot=True, fmt=\"d\", cmap=\"Blues\")\n",
        "plt.xlabel('Predicted')\n",
        "plt.ylabel('True')\n",
        "plt.title('Confusion Matrix')\n",
        "plt.show()"
      ],
      "metadata": {
        "colab": {
          "base_uri": "https://localhost:8080/",
          "height": 564
        },
        "id": "Le6l0c2LcIt4",
        "outputId": "d171d773-413c-484b-c497-c5acfbe81c42"
      },
      "execution_count": 14,
      "outputs": [
        {
          "output_type": "display_data",
          "data": {
            "text/plain": [
              "<Figure size 800x600 with 2 Axes>"
            ],
            "image/png": "[encoded data removed]"
          },
          "metadata": {}
        }
      ]
    },
    {
      "cell_type": "code",
      "source": [
        "misclassified = np.where(y_p != y_test)[0]\n",
        "len(misclassified),len(y_test)"
      ],
      "metadata": {
        "colab": {
          "base_uri": "https://localhost:8080/"
        },
        "id": "na_1Fs-deozH",
        "outputId": "95246ada-42be-4254-eb34-7859df3c2fb5"
      },
      "execution_count": 15,
      "outputs": [
        {
          "output_type": "execute_result",
          "data": {
            "text/plain": [
              "(193, 10000)"
            ]
          },
          "metadata": {},
          "execution_count": 15
        }
      ]
    },
    {
      "cell_type": "code",
      "source": [
        "plt.figure(figsize=(3, 3))\n",
        "plt.pie([len(misclassified), len(y_test)-len(misclassified)], labels=['Misclassified','Correctly Classified'], colors=['red','yellow'])\n",
        "plt.title('Missclassified vs Correctly Classified')\n",
        "plt.show()"
      ],
      "metadata": {
        "colab": {
          "base_uri": "https://localhost:8080/",
          "height": 290
        },
        "id": "ExnhZIIoVPuZ",
        "outputId": "6f352861-acbb-49a4-8647-07b0515dae0e"
      },
      "execution_count": 16,
      "outputs": [
        {
          "output_type": "display_data",
          "data": {
            "text/plain": [
              "<Figure size 300x300 with 1 Axes>"
            ],
            "image/png": "[encoded data removed]"
          },
          "metadata": {}
        }
      ]
    },
    {
      "cell_type": "markdown",
      "source": [
        "#Training for MINST Fashion dataset (But on limited data)"
      ],
      "metadata": {
        "id": "DAT44Jw3rJ_c"
      }
    },
    {
      "cell_type": "code",
      "source": [
        "(xfx_train, xfy_train), (xfx_test, xfy_test) = tf.keras.datasets.fashion_mnist.load_data()"
      ],
      "metadata": {
        "id": "6svfJjOVB6Uz"
      },
      "execution_count": 19,
      "outputs": []
    },
    {
      "cell_type": "code",
      "source": [
        "#Limiting avialable data to only 500 data points\n",
        "fx_train = xfx_train[:500]\n",
        "fy_train = xfy_train[:500]"
      ],
      "metadata": {
        "id": "rFAaB7q9CthT"
      },
      "execution_count": 20,
      "outputs": []
    },
    {
      "cell_type": "code",
      "source": [
        "fx_train.shape"
      ],
      "metadata": {
        "colab": {
          "base_uri": "https://localhost:8080/"
        },
        "id": "rN65OwHhC1hD",
        "outputId": "1fe61ac4-5950-4ebb-b0ee-149bd706ad3a"
      },
      "execution_count": 21,
      "outputs": [
        {
          "output_type": "execute_result",
          "data": {
            "text/plain": [
              "(500, 28, 28)"
            ]
          },
          "metadata": {},
          "execution_count": 21
        }
      ]
    },
    {
      "cell_type": "markdown",
      "source": [
        "###EXECUTING TRANSFER LEARNING ON THE PREVIOUS MODEL"
      ],
      "metadata": {
        "id": "n4dmYlH3n8wm"
      }
    },
    {
      "cell_type": "code",
      "source": [
        "for layer in model.layers[:-1]:\n",
        "    layer.trainable = False"
      ],
      "metadata": {
        "id": "fUkTeTwAk1OL"
      },
      "execution_count": 17,
      "outputs": []
    },
    {
      "cell_type": "code",
      "source": [
        "model.summary()"
      ],
      "metadata": {
        "id": "32XzmKwzmQA1",
        "colab": {
          "base_uri": "https://localhost:8080/"
        },
        "outputId": "7fa3b05c-1cff-4a67-e1cd-a6d271237a4c"
      },
      "execution_count": 18,
      "outputs": [
        {
          "output_type": "stream",
          "name": "stdout",
          "text": [
            "Model: \"sequential\"\n",
            "_________________________________________________________________\n",
            " Layer (type)                Output Shape              Param #   \n",
            "=================================================================\n",
            " conv2d (Conv2D)             (None, 26, 26, 32)        320       \n",
            "                                                                 \n",
            " max_pooling2d (MaxPooling2  (None, 13, 13, 32)        0         \n",
            " D)                                                              \n",
            "                                                                 \n",
            " flatten (Flatten)           (None, 5408)              0         \n",
            "                                                                 \n",
            " layer1 (Dense)              (None, 128)               692352    \n",
            "                                                                 \n",
            " layerrr (Dense)             (None, 10)                1290      \n",
            "                                                                 \n",
            "=================================================================\n",
            "Total params: 693962 (2.65 MB)\n",
            "Trainable params: 1290 (5.04 KB)\n",
            "Non-trainable params: 692672 (2.64 MB)\n",
            "_________________________________________________________________\n"
          ]
        }
      ]
    },
    {
      "cell_type": "code",
      "source": [
        "import time"
      ],
      "metadata": {
        "id": "g_-YQk4NoXFu"
      },
      "execution_count": 22,
      "outputs": []
    },
    {
      "cell_type": "code",
      "source": [
        "start_time = time.time()\n",
        "m_history = model.fit(fx_train,fy_train, epochs = 10)\n",
        "end_time = time.time()\n",
        "execution_time= end_time - start_time\n",
        "\n",
        "print(f\"Execution time: {execution_time} seconds\")"
      ],
      "metadata": {
        "colab": {
          "base_uri": "https://localhost:8080/"
        },
        "id": "JvgIhqSXDGlx",
        "outputId": "2262b2f0-e4ed-4000-a26b-a76ca6b0924f"
      },
      "execution_count": 23,
      "outputs": [
        {
          "output_type": "stream",
          "name": "stdout",
          "text": [
            "Epoch 1/10\n",
            "16/16 [==============================] - 0s 6ms/step - loss: 3.2753 - sparse_categorical_accuracy: 0.4600\n",
            "Epoch 2/10\n",
            "16/16 [==============================] - 0s 3ms/step - loss: 0.5630 - sparse_categorical_accuracy: 0.8060\n",
            "Epoch 3/10\n",
            "16/16 [==============================] - 0s 3ms/step - loss: 0.2214 - sparse_categorical_accuracy: 0.9300\n",
            "Epoch 4/10\n",
            "16/16 [==============================] - 0s 4ms/step - loss: 0.0777 - sparse_categorical_accuracy: 0.9740\n",
            "Epoch 5/10\n",
            "16/16 [==============================] - 0s 3ms/step - loss: 0.0403 - sparse_categorical_accuracy: 0.9860\n",
            "Epoch 6/10\n",
            "16/16 [==============================] - 0s 4ms/step - loss: 0.0162 - sparse_categorical_accuracy: 0.9980\n",
            "Epoch 7/10\n",
            "16/16 [==============================] - 0s 4ms/step - loss: 0.0092 - sparse_categorical_accuracy: 0.9980\n",
            "Epoch 8/10\n",
            "16/16 [==============================] - 0s 3ms/step - loss: 0.0055 - sparse_categorical_accuracy: 1.0000\n",
            "Epoch 9/10\n",
            "16/16 [==============================] - 0s 3ms/step - loss: 0.0028 - sparse_categorical_accuracy: 1.0000\n",
            "Epoch 10/10\n",
            "16/16 [==============================] - 0s 3ms/step - loss: 0.0017 - sparse_categorical_accuracy: 1.0000\n",
            "Execution time: 0.961646318435669 seconds\n"
          ]
        }
      ]
    },
    {
      "cell_type": "markdown",
      "source": [
        "###Comparing To direct method"
      ],
      "metadata": {
        "id": "OpMNadnYoopi"
      }
    },
    {
      "cell_type": "code",
      "source": [
        "model_f = Sequential(\n",
        "    [\n",
        "        Conv2D(32, (3, 3), activation='relu', input_shape=(28, 28, 1)),\n",
        "        MaxPooling2D((2, 2)),\n",
        "        Flatten(),\n",
        "        Dense(128, activation='relu', name='layer1'),\n",
        "        Dense(10, activation ='linear', name = 'layerrr')\n",
        "    ]\n",
        ")\n",
        "\n",
        "model_f.compile(optimizer=tf.keras.optimizers.Adam(learning_rate=0.001),\n",
        "              loss = tf.keras.losses.SparseCategoricalCrossentropy(),\n",
        "              metrics=[tf.keras.metrics.SparseCategoricalAccuracy()],)\n",
        "\n"
      ],
      "metadata": {
        "id": "X7JeLk6WESje"
      },
      "execution_count": 24,
      "outputs": []
    },
    {
      "cell_type": "code",
      "source": [
        "model_f.summary()"
      ],
      "metadata": {
        "colab": {
          "base_uri": "https://localhost:8080/"
        },
        "id": "tQfWilfIFb9D",
        "outputId": "08657ad9-060f-482f-83f7-49bcd0bf36b3"
      },
      "execution_count": 25,
      "outputs": [
        {
          "output_type": "stream",
          "name": "stdout",
          "text": [
            "Model: \"sequential_1\"\n",
            "_________________________________________________________________\n",
            " Layer (type)                Output Shape              Param #   \n",
            "=================================================================\n",
            " conv2d_1 (Conv2D)           (None, 26, 26, 32)        320       \n",
            "                                                                 \n",
            " max_pooling2d_1 (MaxPoolin  (None, 13, 13, 32)        0         \n",
            " g2D)                                                            \n",
            "                                                                 \n",
            " flatten_1 (Flatten)         (None, 5408)              0         \n",
            "                                                                 \n",
            " layer1 (Dense)              (None, 128)               692352    \n",
            "                                                                 \n",
            " layerrr (Dense)             (None, 10)                1290      \n",
            "                                                                 \n",
            "=================================================================\n",
            "Total params: 693962 (2.65 MB)\n",
            "Trainable params: 693962 (2.65 MB)\n",
            "Non-trainable params: 0 (0.00 Byte)\n",
            "_________________________________________________________________\n"
          ]
        }
      ]
    },
    {
      "cell_type": "code",
      "source": [
        "start_time = time.time()\n",
        "ff_history = model_f.fit(fx_train, fy_train, epochs=10)\n",
        "end_time = time.time()\n",
        "execution_time= end_time - start_time\n",
        "\n",
        "print(f\"Execution time: {execution_time} seconds\")"
      ],
      "metadata": {
        "colab": {
          "base_uri": "https://localhost:8080/"
        },
        "id": "mSRoAHLqFPJG",
        "outputId": "674a11fd-df86-4388-d983-c5446d79c28f"
      },
      "execution_count": 26,
      "outputs": [
        {
          "output_type": "stream",
          "name": "stdout",
          "text": [
            "Epoch 1/10\n",
            "16/16 [==============================] - 3s 4ms/step - loss: 10.1082 - sparse_categorical_accuracy: 0.1060\n",
            "Epoch 2/10\n",
            "16/16 [==============================] - 0s 3ms/step - loss: 10.8637 - sparse_categorical_accuracy: 0.1060\n",
            "Epoch 3/10\n",
            "16/16 [==============================] - 0s 3ms/step - loss: 10.8637 - sparse_categorical_accuracy: 0.1060\n",
            "Epoch 4/10\n",
            "16/16 [==============================] - 0s 3ms/step - loss: 10.8637 - sparse_categorical_accuracy: 0.1060\n",
            "Epoch 5/10\n",
            "16/16 [==============================] - 0s 3ms/step - loss: 10.8637 - sparse_categorical_accuracy: 0.1060\n",
            "Epoch 6/10\n",
            "16/16 [==============================] - 0s 4ms/step - loss: 10.8637 - sparse_categorical_accuracy: 0.1060\n",
            "Epoch 7/10\n",
            "16/16 [==============================] - 0s 3ms/step - loss: 10.8637 - sparse_categorical_accuracy: 0.1060\n",
            "Epoch 8/10\n",
            "16/16 [==============================] - 0s 3ms/step - loss: 10.8637 - sparse_categorical_accuracy: 0.1060\n",
            "Epoch 9/10\n",
            "16/16 [==============================] - 0s 3ms/step - loss: 10.8637 - sparse_categorical_accuracy: 0.1060\n",
            "Epoch 10/10\n",
            "16/16 [==============================] - 0s 4ms/step - loss: 10.8637 - sparse_categorical_accuracy: 0.1060\n",
            "Execution time: 5.720952033996582 seconds\n"
          ]
        }
      ]
    },
    {
      "cell_type": "code",
      "source": [
        "f_loss = model_f.evaluate(xfx_test,xfy_test) ##Direct method evaluation"
      ],
      "metadata": {
        "colab": {
          "base_uri": "https://localhost:8080/"
        },
        "id": "b_ujQlZiDfVF",
        "outputId": "d000193f-8095-40c4-a3c1-6ecac1fbfb6f"
      },
      "execution_count": 27,
      "outputs": [
        {
          "output_type": "stream",
          "name": "stdout",
          "text": [
            "313/313 [==============================] - 1s 3ms/step - loss: 11.0572 - sparse_categorical_accuracy: 0.1000\n"
          ]
        }
      ]
    },
    {
      "cell_type": "code",
      "source": [
        "_loss = model.evaluate(xfx_test,xfy_test) ##Transfer Learning evaluation"
      ],
      "metadata": {
        "colab": {
          "base_uri": "https://localhost:8080/"
        },
        "id": "gGTKe078DzZM",
        "outputId": "7c531106-ebac-4b48-f57f-17900b1c7bfc"
      },
      "execution_count": 28,
      "outputs": [
        {
          "output_type": "stream",
          "name": "stdout",
          "text": [
            "313/313 [==============================] - 1s 3ms/step - loss: 1.2122 - sparse_categorical_accuracy: 0.7799\n"
          ]
        }
      ]
    },
    {
      "cell_type": "code",
      "source": [],
      "metadata": {
        "id": "xSgUtXCKMmds"
      },
      "execution_count": 28,
      "outputs": []
    }
  ]
}